{
 "cells": [
  {
   "cell_type": "markdown",
   "metadata": {},
   "source": [
    "Implementing the Ant Colony Optimization (ACO) for the Knapsack Problem\n",
    "The Ant Colony Optimization (ACO) is a metaheuristic inspired by the behavior of ants searching for food. It is particularly useful for solving combinatorial optimization problems like the Knapsack Problem."
   ]
  },
  {
   "cell_type": "markdown",
   "metadata": {},
   "source": [
    "Steps to Implement ACO\n",
    "Initialize Parameters:\n",
    "Number of ants, evaporation rate, pheromone levels, etc.\n",
    "Generate Solutions:\n",
    "Each ant builds a solution by probabilistically selecting items based on pheromone levels and heuristic information (value-to-weight ratio).\n",
    "Update Pheromones:\n",
    "Increase pheromone levels on selected paths based on solution quality.\n",
    "Apply evaporation to simulate pheromone decay.\n",
    "Iterate:\n",
    "Repeat the solution generation and pheromone update for a set number of iterations or until convergence."
   ]
  },
  {
   "cell_type": "code",
   "execution_count": 1,
   "metadata": {},
   "outputs": [
    {
     "name": "stdout",
     "output_type": "stream",
     "text": [
      "Best Solution: [1, 1, 1, 1, 1]\n",
      "Best Value: 300\n"
     ]
    },
    {
     "data": {
      "image/png": "[encoded data removed]",
      "text/plain": [
       "<Figure size 640x480 with 1 Axes>"
      ]
     },
     "metadata": {},
     "output_type": "display_data"
    }
   ],
   "source": [
    "import numpy as np\n",
    "import matplotlib.pyplot as plt\n",
    "\n",
    "# Input data\n",
    "items = [\n",
    "    {\"item\": 1, \"value\": 60, \"weight\": 10},\n",
    "    {\"item\": 2, \"value\": 100, \"weight\": 20},\n",
    "    {\"item\": 3, \"value\": 120, \"weight\": 30},\n",
    "]\n",
    "knapsack_capacity = 50\n",
    "\n",
    "# Parameters for ACO\n",
    "num_ants = 10\n",
    "num_iterations = 50\n",
    "pheromone_evaporation = 0.1\n",
    "pheromone_intensity = 1.0\n",
    "initial_pheromone = 1.0\n",
    "\n",
    "# Initialize pheromones\n",
    "pheromones = np.full(len(items), initial_pheromone)\n",
    "\n",
    "# Function to calculate the probability of choosing an item\n",
    "def calculate_probabilities(pheromones, items, capacity_left):\n",
    "    probabilities = []\n",
    "    for i, item in enumerate(items):\n",
    "        if item[\"weight\"] <= capacity_left:\n",
    "            probabilities.append(pheromones[i] * (item[\"value\"] / item[\"weight\"]))\n",
    "        else:\n",
    "            probabilities.append(0)\n",
    "    total = sum(probabilities)\n",
    "    return [p / total if total > 0 else 0 for p in probabilities]\n",
    "\n",
    "# ACO process\n",
    "best_value = 0\n",
    "best_solution = []\n",
    "values_over_time = []\n",
    "\n",
    "for iteration in range(num_iterations):\n",
    "    solutions = []\n",
    "    solution_values = []\n",
    "\n",
    "    for ant in range(num_ants):\n",
    "        capacity_left = knapsack_capacity\n",
    "        solution = []\n",
    "        value = 0\n",
    "\n",
    "        while capacity_left > 0:\n",
    "            probabilities = calculate_probabilities(pheromones, items, capacity_left)\n",
    "            if sum(probabilities) == 0:\n",
    "                break\n",
    "            selected_item = np.random.choice(len(items), p=probabilities)\n",
    "            if items[selected_item][\"weight\"] <= capacity_left:\n",
    "                solution.append(items[selected_item][\"item\"])\n",
    "                value += items[selected_item][\"value\"]\n",
    "                capacity_left -= items[selected_item][\"weight\"]\n",
    "\n",
    "        solutions.append(solution)\n",
    "        solution_values.append(value)\n",
    "\n",
    "        if value > best_value:\n",
    "            best_value = value\n",
    "            best_solution = solution\n",
    "\n",
    "    # Update pheromones\n",
    "    pheromones *= (1 - pheromone_evaporation)\n",
    "    for solution, value in zip(solutions, solution_values):\n",
    "        for item in solution:\n",
    "            pheromones[item - 1] += pheromone_intensity * (value / best_value)\n",
    "\n",
    "    values_over_time.append(best_value)\n",
    "\n",
    "# Output results\n",
    "print(\"Best Solution:\", best_solution)\n",
    "print(\"Best Value:\", best_value)\n",
    "\n",
    "# Plotting\n",
    "plt.plot(values_over_time, marker='o')\n",
    "plt.title(\"ACO: Knapsack Value Over Iterations\")\n",
    "plt.xlabel(\"Iteration\")\n",
    "plt.ylabel(\"Best Value\")\n",
    "plt.grid()\n",
    "plt.show()\n"
   ]
  },
  {
   "cell_type": "markdown",
   "metadata": {},
   "source": [
    "Explanation of the Code\n",
    "Initialization:\n",
    "\n",
    "Pheromones are initialized equally for all items.\n",
    "ACO parameters include the number of ants, iterations, and pheromone update rules.\n",
    "Ant Solution Construction:\n",
    "\n",
    "Each ant builds a solution by probabilistically selecting items based on pheromones and heuristic value (value-to-weight ratio).\n",
    "Capacity constraints are respected.\n",
    "Pheromone Update:\n",
    "\n",
    "Pheromones decay slightly in each iteration to simulate evaporation.\n",
    "High-quality solutions reinforce pheromones on the items included.\n",
    "Output:\n",
    "\n",
    "Displays the best solution and its total value.\n",
    "Graphs the improvement in the best value over iterations."
   ]
  }
 ],
 "metadata": {
  "kernelspec": {
   "display_name": ".venv",
   "language": "python",
   "name": "python3"
  },
  "language_info": {
   "codemirror_mode": {
    "name": "ipython",
    "version": 3
   },
   "file_extension": ".py",
   "mimetype": "text/x-python",
   "name": "python",
   "nbconvert_exporter": "python",
   "pygments_lexer": "ipython3",
   "version": "3.12.5"
  }
 },
 "nbformat": 4,
 "nbformat_minor": 2
}
